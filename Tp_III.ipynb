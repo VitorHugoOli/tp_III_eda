{
 "nbformat": 4,
 "nbformat_minor": 0,
 "metadata": {
  "colab": {
   "provenance": []
  },
  "kernelspec": {
   "name": "python3",
   "display_name": "Python 3"
  },
  "language_info": {
   "name": "python"
  }
 },
 "cells": [
  {
   "cell_type": "markdown",
   "source": [
    "# Trabalho 3"
   ],
   "metadata": {
    "id": "fCJi4qGp226y"
   }
  },
  {
   "cell_type": "markdown",
   "source": [
    "## Parte Um"
   ],
   "metadata": {
    "id": "jecgHqzx3HZz"
   }
  },
  {
   "cell_type": "markdown",
   "source": [
    "### Maximize the value of an expression\n",
    "\n",
    "> Dada uma matriz A, maximize o valor da expressão $(A[s] - A[r] + A[q] - A[p])$, onde $p$, $q$, $r$ e $s$ são índices da matriz e $s > r > q > p$\n",
    "\n",
    "#### Brute Force\n",
    "\n",
    "Pela aboradagem de brute force é percorrido todas as soluçoes possiveis. No codigo abaixo temos um algoritimo para o problema se utilizando de brute force, sendo que sua complexidade é $O(n^3)$\n",
    "\n",
    "```go\n",
    "func BruteForceMaximizeExpression(A []int) int {\n",
    "max := -1000000000\n",
    "  for p := 0; p < len(A); p++ {\n",
    "    for q := p + 1; q < len(A); q++ {\n",
    "      for r := q + 1; r < len(A); r++ {\n",
    "        for s := r + 1; s < len(A); s++ {\n",
    "          if A[s]-A[r]+A[q]-A[p] > max {\n",
    "            max = A[s] - A[r] + A[q] - A[p]\n",
    "          }\n",
    "        }\n",
    "      }\n",
    "    }\n",
    "  }\n",
    "  return max\n",
    "}\n",
    "```\n",
    "\n",
    "#### Dynamic Progaming\n",
    "\n",
    "Abaixo temos o algoritmo para o problema utilizando a abordagem de programação dinâmica. Para esta abordagem, é criada 4 tabelas para serem armazenados os resultados de cada um dos sub resultados da equação:\n",
    "\n",
    "* `first[]` armazena o valor de $A[s]$;\n",
    "* `second[]` armazena o valor de $A[s] - A[r]$;\n",
    "* `third[]` armazena o valor de $A[s] - A[r] + A[q]$;\n",
    "* `fourth[]` armazena o valor de $A[s] - A[r] + A[q] - A[p]$.\n",
    "\n",
    "Assim, o resultado final é armazenado no vetor fourth, podemos justificar que esta é uma abordagem de programação dinâmica, pois estamos criando diferentes tabelas, nas quais estamos armazenando os sub resultados e os usando posteriormente para calcular os próximos sub resultados até chegar ao resultado final. A ordem de complexidade deste algoritmo é $O(n)$.\n",
    "\n",
    "```go\n",
    "func DynamicProgrammingMaximizeExpression(A []int) int {\n",
    "\tn := len(A)\n",
    "\n",
    "\tif len(A) < 4 {\n",
    "\t\tpanic(\"Array length must be bigger than 4\")\n",
    "\t}\n",
    "\n",
    "\tfirst := make([]int, n+1)\n",
    "\tsecond := make([]int, n)\n",
    "\tthird := make([]int, n-1)\n",
    "\tfourth := make([]int, n-2)\n",
    "\tfor i := 0; i < n-3; i++ {\n",
    "\t\tfirst[i] = -1000000000\n",
    "\t\tsecond[i] = -1000000000\n",
    "\t\tthird[i] = -1000000000\n",
    "\t\tfourth[i] = -1000000000\n",
    "\t}\n",
    "\tfirst[n-2] = -1000000000\n",
    "\tsecond[n-2] = first[n-2]\n",
    "\tthird[n-2] = second[n-2]\n",
    "\n",
    "\tfirst[n-1] = -1000000000\n",
    "\tsecond[n-1] = first[n-1]\n",
    "\n",
    "\tfirst[n] = second[n-1]\n",
    "\n",
    "\t// `first[]` stores the maximum value of `A[l]`\n",
    "\tfor i := n - 1; i >= 0; i-- {\n",
    "\t\tfirst[i] = int(math.Max(float64(first[i+1]), float64(A[i])))\n",
    "\t}\n",
    "\n",
    "\t// `second[]` stores the maximum value of `A[l] - A[k]`\n",
    "\tfor i := n - 2; i >= 0; i-- {\n",
    "\t\tsecond[i] = int(math.Max(float64(second[i+1]), float64(first[i+1]-A[i])))\n",
    "\t}\n",
    "\n",
    "\t// `third[]` stores the maximum value of `A[l] - A[k] + A[j]`\n",
    "\tfor i := n - 3; i >= 0; i-- {\n",
    "\t\tthird[i] = int(math.Max(float64(third[i+1]), float64(second[i+1]+A[i])))\n",
    "\t}\n",
    "\n",
    "\t// `fourth[]` stores the maximum value of `A[l] - A[k] + A[j] - A[i]`\n",
    "\tfor i := n - 4; i >= 0; i-- {\n",
    "\t\tfourth[i] = int(math.Max(float64(fourth[i+1]), float64(third[i+1]-A[i])))\n",
    "\t}\n",
    "\n",
    "\treturn fourth[0]\n",
    "}\n",
    "```\n",
    "\n",
    "#### Comparação dos resultados\n",
    "\n",
    "![graph](/Users/vitorhugo/Documents/Mestrado/I/EDA/tps/III/Gráfico de complexidade.png)"
   ],
   "metadata": {
    "id": "LTJU4oJw8piO"
   }
  },
  {
   "cell_type": "code",
   "source": [],
   "metadata": {
    "id": "R1jYwoeG8pE9"
   },
   "execution_count": null,
   "outputs": []
  }
 ]
}
